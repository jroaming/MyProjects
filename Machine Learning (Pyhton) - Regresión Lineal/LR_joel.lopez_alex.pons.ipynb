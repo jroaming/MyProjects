{
 "cells": [
  {
   "cell_type": "markdown",
   "metadata": {},
   "source": [
    "# Machine Learning P6 (Simulació Física)"
   ]
  },
  {
   "cell_type": "markdown",
   "metadata": {},
   "source": [
    "## Imports"
   ]
  },
  {
   "cell_type": "code",
   "execution_count": 1,
   "metadata": {},
   "outputs": [],
   "source": [
    "# imports\n",
    "# pyplot and stuff (from pdf)\n",
    "import matplotlib.pyplot as plt\n",
    "import numpy as np\n",
    "import pandas as pd\n",
    "from scipy import stats # we'll use this one (only) for the outliers\n"
   ]
  },
  {
   "cell_type": "markdown",
   "metadata": {},
   "source": [
    "## Dataset info"
   ]
  },
  {
   "cell_type": "code",
   "execution_count": 2,
   "metadata": {},
   "outputs": [
    {
     "data": {
      "text/html": [
       "<div>\n",
       "<style scoped>\n",
       "    .dataframe tbody tr th:only-of-type {\n",
       "        vertical-align: middle;\n",
       "    }\n",
       "\n",
       "    .dataframe tbody tr th {\n",
       "        vertical-align: top;\n",
       "    }\n",
       "\n",
       "    .dataframe thead th {\n",
       "        text-align: right;\n",
       "    }\n",
       "</style>\n",
       "<table border=\"1\" class=\"dataframe\">\n",
       "  <thead>\n",
       "    <tr style=\"text-align: right;\">\n",
       "      <th></th>\n",
       "      <th>GameID</th>\n",
       "      <th>LeagueIndex</th>\n",
       "      <th>Age</th>\n",
       "      <th>HoursPerWeek</th>\n",
       "      <th>TotalHours</th>\n",
       "      <th>APM</th>\n",
       "      <th>SelectByHotkeys</th>\n",
       "      <th>AssignToHotkeys</th>\n",
       "      <th>UniqueHotkeys</th>\n",
       "      <th>MinimapAttacks</th>\n",
       "      <th>MinimapRightClicks</th>\n",
       "      <th>NumberOfPACs</th>\n",
       "      <th>GapBetweenPACs</th>\n",
       "      <th>ActionLatency</th>\n",
       "      <th>ActionsInPAC</th>\n",
       "      <th>TotalMapExplored</th>\n",
       "      <th>WorkersMade</th>\n",
       "      <th>UniqueUnitsMade</th>\n",
       "      <th>ComplexUnitsMade</th>\n",
       "      <th>ComplexAbilitiesUsed</th>\n",
       "    </tr>\n",
       "  </thead>\n",
       "  <tbody>\n",
       "    <tr>\n",
       "      <th>0</th>\n",
       "      <td>52</td>\n",
       "      <td>5</td>\n",
       "      <td>27</td>\n",
       "      <td>10</td>\n",
       "      <td>3000</td>\n",
       "      <td>143.7180</td>\n",
       "      <td>0.003515</td>\n",
       "      <td>0.000220</td>\n",
       "      <td>7</td>\n",
       "      <td>0.000110</td>\n",
       "      <td>0.000392</td>\n",
       "      <td>0.004849</td>\n",
       "      <td>32.6677</td>\n",
       "      <td>40.8673</td>\n",
       "      <td>4.7508</td>\n",
       "      <td>28</td>\n",
       "      <td>0.001397</td>\n",
       "      <td>6</td>\n",
       "      <td>0.0</td>\n",
       "      <td>0.000000</td>\n",
       "    </tr>\n",
       "    <tr>\n",
       "      <th>1</th>\n",
       "      <td>55</td>\n",
       "      <td>5</td>\n",
       "      <td>23</td>\n",
       "      <td>10</td>\n",
       "      <td>5000</td>\n",
       "      <td>129.2322</td>\n",
       "      <td>0.003304</td>\n",
       "      <td>0.000259</td>\n",
       "      <td>4</td>\n",
       "      <td>0.000294</td>\n",
       "      <td>0.000432</td>\n",
       "      <td>0.004307</td>\n",
       "      <td>32.9194</td>\n",
       "      <td>42.3454</td>\n",
       "      <td>4.8434</td>\n",
       "      <td>22</td>\n",
       "      <td>0.001194</td>\n",
       "      <td>5</td>\n",
       "      <td>0.0</td>\n",
       "      <td>0.000208</td>\n",
       "    </tr>\n",
       "    <tr>\n",
       "      <th>2</th>\n",
       "      <td>56</td>\n",
       "      <td>4</td>\n",
       "      <td>30</td>\n",
       "      <td>10</td>\n",
       "      <td>200</td>\n",
       "      <td>69.9612</td>\n",
       "      <td>0.001101</td>\n",
       "      <td>0.000336</td>\n",
       "      <td>4</td>\n",
       "      <td>0.000294</td>\n",
       "      <td>0.000461</td>\n",
       "      <td>0.002926</td>\n",
       "      <td>44.6475</td>\n",
       "      <td>75.3548</td>\n",
       "      <td>4.0430</td>\n",
       "      <td>22</td>\n",
       "      <td>0.000745</td>\n",
       "      <td>6</td>\n",
       "      <td>0.0</td>\n",
       "      <td>0.000189</td>\n",
       "    </tr>\n",
       "    <tr>\n",
       "      <th>3</th>\n",
       "      <td>57</td>\n",
       "      <td>3</td>\n",
       "      <td>19</td>\n",
       "      <td>20</td>\n",
       "      <td>400</td>\n",
       "      <td>107.6016</td>\n",
       "      <td>0.001034</td>\n",
       "      <td>0.000213</td>\n",
       "      <td>1</td>\n",
       "      <td>0.000053</td>\n",
       "      <td>0.000543</td>\n",
       "      <td>0.003783</td>\n",
       "      <td>29.2203</td>\n",
       "      <td>53.7352</td>\n",
       "      <td>4.9155</td>\n",
       "      <td>19</td>\n",
       "      <td>0.000426</td>\n",
       "      <td>7</td>\n",
       "      <td>0.0</td>\n",
       "      <td>0.000384</td>\n",
       "    </tr>\n",
       "    <tr>\n",
       "      <th>4</th>\n",
       "      <td>58</td>\n",
       "      <td>3</td>\n",
       "      <td>32</td>\n",
       "      <td>10</td>\n",
       "      <td>500</td>\n",
       "      <td>122.8908</td>\n",
       "      <td>0.001136</td>\n",
       "      <td>0.000327</td>\n",
       "      <td>2</td>\n",
       "      <td>0.000000</td>\n",
       "      <td>0.001329</td>\n",
       "      <td>0.002368</td>\n",
       "      <td>22.6885</td>\n",
       "      <td>62.0813</td>\n",
       "      <td>9.3740</td>\n",
       "      <td>15</td>\n",
       "      <td>0.001174</td>\n",
       "      <td>4</td>\n",
       "      <td>0.0</td>\n",
       "      <td>0.000019</td>\n",
       "    </tr>\n",
       "  </tbody>\n",
       "</table>\n",
       "</div>"
      ],
      "text/plain": [
       "   GameID  LeagueIndex Age HoursPerWeek TotalHours       APM  SelectByHotkeys  \\\n",
       "0      52            5  27           10       3000  143.7180         0.003515   \n",
       "1      55            5  23           10       5000  129.2322         0.003304   \n",
       "2      56            4  30           10        200   69.9612         0.001101   \n",
       "3      57            3  19           20        400  107.6016         0.001034   \n",
       "4      58            3  32           10        500  122.8908         0.001136   \n",
       "\n",
       "   AssignToHotkeys  UniqueHotkeys  MinimapAttacks  MinimapRightClicks  \\\n",
       "0         0.000220              7        0.000110            0.000392   \n",
       "1         0.000259              4        0.000294            0.000432   \n",
       "2         0.000336              4        0.000294            0.000461   \n",
       "3         0.000213              1        0.000053            0.000543   \n",
       "4         0.000327              2        0.000000            0.001329   \n",
       "\n",
       "   NumberOfPACs  GapBetweenPACs  ActionLatency  ActionsInPAC  \\\n",
       "0      0.004849         32.6677        40.8673        4.7508   \n",
       "1      0.004307         32.9194        42.3454        4.8434   \n",
       "2      0.002926         44.6475        75.3548        4.0430   \n",
       "3      0.003783         29.2203        53.7352        4.9155   \n",
       "4      0.002368         22.6885        62.0813        9.3740   \n",
       "\n",
       "   TotalMapExplored  WorkersMade  UniqueUnitsMade  ComplexUnitsMade  \\\n",
       "0                28     0.001397                6               0.0   \n",
       "1                22     0.001194                5               0.0   \n",
       "2                22     0.000745                6               0.0   \n",
       "3                19     0.000426                7               0.0   \n",
       "4                15     0.001174                4               0.0   \n",
       "\n",
       "   ComplexAbilitiesUsed  \n",
       "0              0.000000  \n",
       "1              0.000208  \n",
       "2              0.000189  \n",
       "3              0.000384  \n",
       "4              0.000019  "
      ]
     },
     "execution_count": 2,
     "metadata": {},
     "output_type": "execute_result"
    }
   ],
   "source": [
    "# load dataset\n",
    "data = pd.read_csv('SkillCraft1_Dataset.csv')\n",
    "league = data['LeagueIndex'].tolist()\n",
    "apm = data['APM'].tolist()\n",
    "# we show the first 5 rows\n",
    "data.head()"
   ]
  },
  {
   "cell_type": "markdown",
   "metadata": {},
   "source": [
    "## Variables"
   ]
  },
  {
   "cell_type": "code",
   "execution_count": 3,
   "metadata": {},
   "outputs": [],
   "source": [
    "# first we get the training and testing data\n",
    "trainLength = round(len(data) * 0.8)\n",
    "x_train = apm[:trainLength]\n",
    "x_test = apm[trainLength:]\n",
    "y_train = league[:trainLength]\n",
    "y_test = league[trainLength:]\n"
   ]
  },
  {
   "cell_type": "code",
   "execution_count": 4,
   "metadata": {},
   "outputs": [],
   "source": [
    "# computing-related vars\n",
    "num_iterations = 500 # how many iterations do we use\n",
    "learning_rate = .00001 # how fast is our system learning\n",
    "\n",
    "# initial values from slope function 'y = mx + n'\n",
    "initial_m = np.random.rand()\n",
    "initial_n = np.random.rand()\n",
    "# these are the ones we are gonna be refreshing while learning\n",
    "m = initial_m\n",
    "n = initial_n\n",
    "error = 0\n",
    "\n",
    "# more variables (data-study-wise)\n",
    "train_data = [] # matrix of [leagues][different apm's from players in these league]\n",
    "array_cost = []\n",
    "array_theta = []\n",
    "outliers=[]\n",
    "# arrays with x and y non-outlier values:\n",
    "x_train_nooutliers = []\n",
    "y_train_nooutliers = []\n"
   ]
  },
  {
   "cell_type": "markdown",
   "metadata": {},
   "source": [
    "## Functions"
   ]
  },
  {
   "cell_type": "code",
   "execution_count": 5,
   "metadata": {},
   "outputs": [],
   "source": [
    "# Slope's function\n",
    "y = lambda x : m*x + n\n"
   ]
  },
  {
   "cell_type": "code",
   "execution_count": 6,
   "metadata": {},
   "outputs": [],
   "source": [
    "# Descend. Gradient function\n",
    "def gradient_step(y, x_values, y_values):\n",
    "    total1 = 0\n",
    "    total2 = 0\n",
    "    \n",
    "    for i in range(1, len(x_values)):\n",
    "        total1 += y(x_values[i]) - y_values[i]\n",
    "        total2 += (y(x_values[i]) - y_values[i]) * x_values[i]\n",
    "        \n",
    "    return total1 / len(x_values), total2 / len(x_values)\n"
   ]
  },
  {
   "cell_type": "code",
   "execution_count": 7,
   "metadata": {},
   "outputs": [],
   "source": [
    "# Function that prints a line\n",
    "def plot_line(y, data_points):\n",
    "    x_values = [i for i in range(int(min(data_points))-1, int(max(data_points))+2)]\n",
    "    y_values = [y(x) for x in x_values]\n",
    "    plt.plot(x_values, y_values, 'r')"
   ]
  },
  {
   "cell_type": "code",
   "execution_count": 8,
   "metadata": {},
   "outputs": [],
   "source": [
    "def plot_array(y, x):\n",
    "    #plt.ylim(num_iterations/10)\n",
    "    #plt.xlim(0,num_iterations)\n",
    "    plt.plot(x,y)"
   ]
  },
  {
   "cell_type": "code",
   "execution_count": 9,
   "metadata": {},
   "outputs": [],
   "source": [
    "# Function that calculates the error\n",
    "def current_cost(n, m, x_train, y_train):\n",
    "    #initialize error at 0\n",
    "    error = 0\n",
    "    #we calculate the summatory:\n",
    "    for i in range(0, len(x_train)): #for each loop, we get both X and Y value\n",
    "        error += (y_train[i] - (m * x_train[i] + n)) **2\n",
    "    \n",
    "    #we return the final value\n",
    "    return error/float(len(x_train))"
   ]
  },
  {
   "cell_type": "code",
   "execution_count": 10,
   "metadata": {},
   "outputs": [],
   "source": [
    "# Function that finds outliers\n",
    "def detect_outlier(data_1):\n",
    "    # we'll use Z-score for detecting the outliers\n",
    "    # (it's based on using a threshold set to 3 in order to compare the data)\n",
    "    z = np.abs(stats.zscore(data_1))\n",
    "    #print(z)\n",
    "    threshold = 3\n",
    "    detected_outliers = np.where(z > 3)[0]\n",
    "    return detected_outliers"
   ]
  },
  {
   "cell_type": "markdown",
   "metadata": {},
   "source": [
    "## Ex 1. Model Training"
   ]
  },
  {
   "cell_type": "code",
   "execution_count": 11,
   "metadata": {},
   "outputs": [
    {
     "name": "stdout",
     "output_type": "stream",
     "text": [
      "Value of θ₀ (n): 0.47780125357141146\n",
      "Value of θ₁ (m): 0.030146623941572224\n"
     ]
    }
   ],
   "source": [
    "# WE TRAIN OUR MODEL\n",
    "for iteration in range(num_iterations):\n",
    "    #print(iteration)\n",
    "    # we calculate new M's and N's\n",
    "    s1, s2 = gradient_step(y, x_train, y_train)\n",
    "    m = m - learning_rate * s2\n",
    "    n = n - learning_rate * s1\n",
    "    \n",
    "    # we calculate and add the new cost and theta\n",
    "    array_cost.append(current_cost(n,m,x_train,y_train))\n",
    "    array_theta.append(m)\n",
    "\n",
    "print(f'Value of \\u03B8₀ (n): {n}')\n",
    "print(f'Value of \\u03B8₁ (m): {m}')"
   ]
  },
  {
   "cell_type": "markdown",
   "metadata": {},
   "source": [
    "## Ex 2. Graphs with starting training data"
   ]
  },
  {
   "cell_type": "code",
   "execution_count": 18,
   "metadata": {},
   "outputs": [
    {
     "data": {
      "image/png": "[encoded data removed]",
      "text/plain": [
       "<Figure size 720x360 with 1 Axes>"
      ]
     },
     "metadata": {
      "needs_background": "light"
     },
     "output_type": "display_data"
    },
    {
     "data": {
      "text/plain": [
       "[<matplotlib.lines.Line2D at 0x1dd8a8a32b0>]"
      ]
     },
     "execution_count": 18,
     "metadata": {},
     "output_type": "execute_result"
    },
    {
     "data": {
      "image/png": "[encoded data removed]",
      "text/plain": [
       "<Figure size 432x288 with 1 Axes>"
      ]
     },
     "metadata": {
      "needs_background": "light"
     },
     "output_type": "display_data"
    },
    {
     "data": {
      "image/png": "[encoded data removed]",
      "text/plain": [
       "<Figure size 432x288 with 1 Axes>"
      ]
     },
     "metadata": {
      "needs_background": "light"
     },
     "output_type": "display_data"
    }
   ],
   "source": [
    "# PREDICCIO (entrenament)\n",
    "plt.figure(0, figsize=(10,5))\n",
    "plt.title('Predicció de la Regressió Lineal')\n",
    "plt.xlabel('APM')\n",
    "plt.ylabel('League Index')\n",
    "plt.scatter(x_train, y_train, color = 'grey', label='Training')\n",
    "plt.scatter(x_test, y_test, color = 'black', label='Testing')\n",
    "plot_line(y, x_train)\n",
    "plt.legend()\n",
    "plt.show()\n",
    "\n",
    "# COST\n",
    "plt.figure(1)\n",
    "plt.title('J(iteracions)')\n",
    "plt.xlabel('N iterations')\n",
    "plt.ylabel('J')\n",
    "plot_array(np.arange(num_iterations)/2, array_cost)\n",
    "\n",
    "# ESTABILITZACIO DE LA THETA\n",
    "plt.figure(2)\n",
    "plt.title('\\u03B8₁(iteracions)')\n",
    "plt.xlabel('N iterations')\n",
    "plt.ylabel('\\u03B8₁')\n",
    "plt.plot(array_theta)\n"
   ]
  },
  {
   "cell_type": "markdown",
   "metadata": {},
   "source": [
    "## Ex 3. Getting rid of outliers"
   ]
  },
  {
   "cell_type": "code",
   "execution_count": 19,
   "metadata": {},
   "outputs": [
    {
     "name": "stdout",
     "output_type": "stream",
     "text": [
      "-> League 1: 140 elements.\n",
      "\t3 outlier(s) detected!\n",
      "-> League 2: 279 elements.\n",
      "\t2 outlier(s) detected!\n",
      "-> League 3: 441 elements.\n",
      "\t7 outlier(s) detected!\n",
      "-> League 4: 661 elements.\n",
      "\t10 outlier(s) detected!\n",
      "-> League 5: 653 elements.\n",
      "\t9 outlier(s) detected!\n",
      "-> League 6: 514 elements.\n",
      "\t3 outlier(s) detected!\n",
      "-> League 7: 28 elements.\n",
      "\t0 outlier(s) detected!\n"
     ]
    }
   ],
   "source": [
    "# WE LOOK FOR OUTLIERS\n",
    "\n",
    "# (first we create the matrix 'train_data') - - - - - - - - - - - - - - - - - - - - - - - - - - - - - - - - - - - - - - - -\n",
    "train_data = []\n",
    "# \"agrupamos la info de apm por liga para que sea mas sencillo hacer los outliers de cada liga:\n",
    "# crearemos una matriz de nligas x players que contenga el valor apm de cada uno de ellos que pertenezcan a dicha liga\n",
    "# (ligas del 1 al 8, que trataremos como un array del 0 al 7 (posicion y = liga - 1))\"\n",
    "# IMPORTANTE: Aunque ocho ligas, nuestros datos de entrenamiento no contienen ningun jugador mayor a la séptima liga, de\n",
    "# modo que la última fila aparecerá vacía\n",
    "train_data.append([])\n",
    "train_data.append([])\n",
    "train_data.append([])\n",
    "train_data.append([])\n",
    "train_data.append([])\n",
    "train_data.append([])\n",
    "train_data.append([])\n",
    "for u in range(len(x_train)):\n",
    "    # esto es si queremos agregar los indices\n",
    "    #train_data[y_train[u] - 1].append(u)\n",
    "    # esto es si en vez de los indices, queremos poner directamente el valor de x (apm) del jugador\n",
    "    train_data[y_train[u] - 1].append(x_train[u])\n",
    "\n",
    "\n",
    "# (now we search the outliers of every league)  - - - - - - - - - - - - - - - - - - - - - - - - - - - - - - - - - - - - - -\n",
    "for league in range(len(train_data)):\n",
    "    aux_x_array = []\n",
    "    aux_y_array = []\n",
    "    outliers_per_league = detect_outlier(train_data[league]) # we detect the outliers\n",
    "    #for out in outliers_per_league:\n",
    "    #    outliers.append(out)\n",
    "    print(f'-> League {league+1}: {len(train_data[league])} elements.')\n",
    "    print(f'\\t{len(outliers_per_league)} outlier(s) detected!')\n",
    "    outliers.append(outliers_per_league)"
   ]
  },
  {
   "cell_type": "code",
   "execution_count": 20,
   "metadata": {},
   "outputs": [
    {
     "name": "stdout",
     "output_type": "stream",
     "text": [
      "Liga 1 -> Eliminado valor 141.6282 (indice = 127)\n",
      "Liga 1 -> Eliminado valor 172.953 (indice = 124)\n",
      "Liga 1 -> Eliminado valor 139.6362 (indice = 102)\n",
      "Liga 2 -> Eliminado valor 142.767 (indice = 272)\n",
      "Liga 2 -> Eliminado valor 151.64700000000002 (indice = 169)\n",
      "Liga 3 -> Eliminado valor 193.3422 (indice = 435)\n",
      "Liga 3 -> Eliminado valor 182.3736 (indice = 377)\n",
      "Liga 3 -> Eliminado valor 192.3036 (indice = 348)\n",
      "Liga 3 -> Eliminado valor 188.1348 (indice = 286)\n",
      "Liga 3 -> Eliminado valor 226.6554 (indice = 268)\n",
      "Liga 3 -> Eliminado valor 189.465 (indice = 177)\n",
      "Liga 3 -> Eliminado valor 220.0692 (indice = 85)\n",
      "Liga 4 -> Eliminado valor 211.7124 (indice = 660)\n",
      "Liga 4 -> Eliminado valor 249.021 (indice = 655)\n",
      "Liga 4 -> Eliminado valor 227.2272 (indice = 638)\n",
      "Liga 4 -> Eliminado valor 215.01 (indice = 605)\n",
      "Liga 4 -> Eliminado valor 214.2684 (indice = 526)\n",
      "Liga 4 -> Eliminado valor 216.4152 (indice = 498)\n",
      "Liga 4 -> Eliminado valor 206.838 (indice = 466)\n",
      "Liga 4 -> Eliminado valor 229.9122 (indice = 433)\n",
      "Liga 4 -> Eliminado valor 209.8026 (indice = 221)\n",
      "Liga 4 -> Eliminado valor 216.6936 (indice = 6)\n",
      "Liga 5 -> Eliminado valor 289.4268 (indice = 555)\n",
      "Liga 5 -> Eliminado valor 274.9086 (indice = 494)\n",
      "Liga 5 -> Eliminado valor 281.4246 (indice = 416)\n",
      "Liga 5 -> Eliminado valor 272.8404 (indice = 408)\n",
      "Liga 5 -> Eliminado valor 292.5408 (indice = 333)\n",
      "Liga 5 -> Eliminado valor 256.8528 (indice = 327)\n",
      "Liga 5 -> Eliminado valor 254.5392 (indice = 279)\n",
      "Liga 5 -> Eliminado valor 327.7218 (indice = 57)\n",
      "Liga 5 -> Eliminado valor 335.499 (indice = 29)\n",
      "Liga 6 -> Eliminado valor 323.2506 (indice = 308)\n",
      "Liga 6 -> Eliminado valor 311.0094 (indice = 170)\n",
      "Liga 6 -> Eliminado valor 389.8314 (indice = 127)\n"
     ]
    }
   ],
   "source": [
    "# NOW WE DELETE THE OUTLIERS (from the 'train_data' variable) AND CREATE A 1Dimensional X AND Y ARRAY AGAIN\n",
    "\n",
    "# We delete the outliers from the train_data matrix:\n",
    "for league in range(len(train_data)):\n",
    "    \n",
    "    for outlier in reversed(outliers[league]):\n",
    "        print(f'Liga {league+1} -> Eliminado valor {train_data[league][outlier]} (indice = {outlier})')\n",
    "        train_data[league].pop(outlier)\n",
    "\n",
    "# We create a 1D array from the matrix (so we can reuse the defined functions)\n",
    "for league in range(len(train_data)):\n",
    "    for player in range(len(train_data[league])):\n",
    "        y_train_nooutliers.append(league + 1)\n",
    "        x_train_nooutliers.append(train_data[league][player])\n",
    "    "
   ]
  },
  {
   "cell_type": "markdown",
   "metadata": {},
   "source": [
    "## Ex 4. Training our model with the new data (no outliers)"
   ]
  },
  {
   "cell_type": "code",
   "execution_count": 21,
   "metadata": {},
   "outputs": [
    {
     "name": "stdout",
     "output_type": "stream",
     "text": [
      "Value of θ₀ (n) [NO OUTLIERS]: 0.4776126261152944\n",
      "Value of θ₁ (m) [NO OUTLIERS]: 0.030920044363469457\n"
     ]
    }
   ],
   "source": [
    "# WE REINITIALIZE OUR VARIABLES\n",
    "# (we need the same starting values in order to make a good comparison)\n",
    "m = initial_m\n",
    "n = initial_n\n",
    "array_cost = []\n",
    "array_theta = []\n",
    "\n",
    "# WE TRAIN OUR MODEL\n",
    "for iteration in range(num_iterations):\n",
    "    #print(iteration)\n",
    "    # we calculate new M's and N's\n",
    "    s1, s2 = gradient_step(y, x_train_nooutliers, y_train_nooutliers)\n",
    "    m = m - learning_rate * s2\n",
    "    n = n - learning_rate * s1\n",
    "    \n",
    "    # we calculate and add the new cost and theta\n",
    "    array_cost.append(current_cost(n,m,x_train_nooutliers,y_train_nooutliers))\n",
    "    array_theta.append(m)\n",
    "\n",
    "print(f'Value of \\u03B8₀ (n) [NO OUTLIERS]: {n}')\n",
    "print(f'Value of \\u03B8₁ (m) [NO OUTLIERS]: {m}')"
   ]
  },
  {
   "cell_type": "markdown",
   "metadata": {},
   "source": [
    "## Ex 5. Show graphs of our new data"
   ]
  },
  {
   "cell_type": "code",
   "execution_count": 23,
   "metadata": {},
   "outputs": [
    {
     "data": {
      "image/png": "[encoded data removed]",
      "text/plain": [
       "<Figure size 720x360 with 1 Axes>"
      ]
     },
     "metadata": {
      "needs_background": "light"
     },
     "output_type": "display_data"
    },
    {
     "data": {
      "text/plain": [
       "[<matplotlib.lines.Line2D at 0x1dd895a0550>]"
      ]
     },
     "execution_count": 23,
     "metadata": {},
     "output_type": "execute_result"
    },
    {
     "data": {
      "image/png": "[encoded data removed]",
      "text/plain": [
       "<Figure size 432x288 with 1 Axes>"
      ]
     },
     "metadata": {
      "needs_background": "light"
     },
     "output_type": "display_data"
    },
    {
     "data": {
      "image/png": "[encoded data removed]",
      "text/plain": [
       "<Figure size 432x288 with 1 Axes>"
      ]
     },
     "metadata": {
      "needs_background": "light"
     },
     "output_type": "display_data"
    }
   ],
   "source": [
    "# PREDICCIO (entrenament)\n",
    "plt.figure(0, figsize=(10,5))\n",
    "plt.title('Predicció de la Regressió Lineal')\n",
    "plt.xlabel('APM')\n",
    "plt.ylabel('League Index')\n",
    "plt.scatter(x_train_nooutliers, y_train_nooutliers, color = 'grey', label='Training')\n",
    "plt.scatter(x_test, y_test, color = 'black', label='Testing')\n",
    "plot_line(y, x_train)\n",
    "plt.legend()\n",
    "plt.show()\n",
    "\n",
    "# COST\n",
    "plt.figure(1)\n",
    "plt.title('J(iteracions)')\n",
    "plt.xlabel('N iterations')\n",
    "plt.ylabel('J')\n",
    "plot_array(np.arange(num_iterations)/2, array_cost)\n",
    "\n",
    "# ESTABILITZACIO DE LA THETA\n",
    "plt.figure(2)\n",
    "plt.title('\\u03B8₁(iteracions)')\n",
    "plt.xlabel('N iterations')\n",
    "plt.ylabel('\\u03B8₁')\n",
    "plt.plot(array_theta)\n"
   ]
  },
  {
   "cell_type": "markdown",
   "metadata": {},
   "source": [
    "## Ex 6. Results' comparison"
   ]
  },
  {
   "cell_type": "code",
   "execution_count": 24,
   "metadata": {},
   "outputs": [],
   "source": [
    "# This exercise is in the memory of this practice ('LR-memoria_joel.lopez_alex.pons.pdf')"
   ]
  }
 ],
 "metadata": {
  "kernelspec": {
   "display_name": "Python 3",
   "language": "python",
   "name": "python3"
  },
  "language_info": {
   "codemirror_mode": {
    "name": "ipython",
    "version": 3
   },
   "file_extension": ".py",
   "mimetype": "text/x-python",
   "name": "python",
   "nbconvert_exporter": "python",
   "pygments_lexer": "ipython3",
   "version": "3.7.3"
  },
  "varInspector": {
   "cols": {
    "lenName": 16,
    "lenType": 16,
    "lenVar": 40
   },
   "kernels_config": {
    "python": {
     "delete_cmd_postfix": "",
     "delete_cmd_prefix": "del ",
     "library": "var_list.py",
     "varRefreshCmd": "print(var_dic_list())"
    },
    "r": {
     "delete_cmd_postfix": ") ",
     "delete_cmd_prefix": "rm(",
     "library": "var_list.r",
     "varRefreshCmd": "cat(var_dic_list()) "
    }
   },
   "oldHeight": 428.727454,
   "position": {
    "height": "40px",
    "left": "849.341px",
    "right": "20px",
    "top": "4px",
    "width": "507.716px"
   },
   "types_to_exclude": [
    "module",
    "function",
    "builtin_function_or_method",
    "instance",
    "_Feature"
   ],
   "varInspector_section_display": "none",
   "window_display": true
  }
 },
 "nbformat": 4,
 "nbformat_minor": 2
}
